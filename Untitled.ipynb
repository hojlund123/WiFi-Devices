{
 "cells": [
  {
   "cell_type": "markdown",
   "id": "0f369f41",
   "metadata": {},
   "source": [
    "# install dependencies"
   ]
  },
  {
   "cell_type": "code",
   "execution_count": 13,
   "id": "f171d34f",
   "metadata": {},
   "outputs": [
    {
     "name": "stdout",
     "output_type": "stream",
     "text": [
      "Name: scapy\n",
      "Version: 2.5.0\n",
      "Summary: Scapy: interactive packet manipulation tool\n",
      "Home-page: https://scapy.net\n",
      "Author: Philippe BIONDI\n",
      "Author-email: guillaume@valadon.net\n",
      "License: GPL-2.0-only\n",
      "Location: c:\\users\\hojlund123\\appdata\\roaming\\python\\python39\\site-packages\n",
      "Requires: \n",
      "Required-by: \n"
     ]
    }
   ],
   "source": [
    "!pip show scapy"
   ]
  },
  {
   "cell_type": "code",
   "execution_count": 14,
   "id": "7a4bd3e5",
   "metadata": {},
   "outputs": [
    {
     "name": "stdout",
     "output_type": "stream",
     "text": [
      "Name: kaggle\n",
      "Version: 1.5.13\n",
      "Summary: Kaggle API\n",
      "Home-page: https://github.com/Kaggle/kaggle-api\n",
      "Author: Kaggle\n",
      "Author-email: support@kaggle.com\n",
      "License: Apache 2.0\n",
      "Location: c:\\users\\hojlund123\\appdata\\roaming\\python\\python39\\site-packages\n",
      "Requires: certifi, python-dateutil, python-slugify, requests, six, tqdm, urllib3\n",
      "Required-by: \n"
     ]
    }
   ],
   "source": [
    "!"
   ]
  },
  {
   "cell_type": "code",
   "execution_count": 9,
   "id": "8aa6e4b4",
   "metadata": {},
   "outputs": [
    {
     "name": "stdout",
     "output_type": "stream",
     "text": [
      "Defaulting to user installation because normal site-packages is not writeable\n",
      "Requirement already satisfied: flask in c:\\users\\hojlund123\\appdata\\roaming\\python\\python39\\site-packages (from -r requirements.txt (line 1)) (2.2.3)\n",
      "Requirement already satisfied: python3-nmap in c:\\users\\hojlund123\\appdata\\roaming\\python\\python39\\site-packages (from -r requirements.txt (line 2)) (1.6.0)\n",
      "Requirement already satisfied: scapy in c:\\users\\hojlund123\\appdata\\roaming\\python\\python39\\site-packages (from -r requirements.txt (line 3)) (2.5.0)\n",
      "Requirement already satisfied: mac-vendor-lookup in c:\\users\\hojlund123\\appdata\\roaming\\python\\python39\\site-packages (from -r requirements.txt (line 4)) (0.1.12)\n",
      "Requirement already satisfied: importlib-metadata>=3.6.0 in c:\\programdata\\anaconda3\\lib\\site-packages (from flask->-r requirements.txt (line 1)) (6.0.0)\n",
      "Requirement already satisfied: click>=8.0 in c:\\programdata\\anaconda3\\lib\\site-packages (from flask->-r requirements.txt (line 1)) (8.0.4)\n",
      "Requirement already satisfied: Jinja2>=3.0 in c:\\programdata\\anaconda3\\lib\\site-packages (from flask->-r requirements.txt (line 1)) (3.1.2)\n",
      "Requirement already satisfied: Werkzeug>=2.2.2 in c:\\users\\hojlund123\\appdata\\roaming\\python\\python39\\site-packages (from flask->-r requirements.txt (line 1)) (2.2.3)\n",
      "Requirement already satisfied: itsdangerous>=2.0 in c:\\users\\hojlund123\\appdata\\roaming\\python\\python39\\site-packages (from flask->-r requirements.txt (line 1)) (2.1.2)\n",
      "Requirement already satisfied: simplejson in c:\\users\\hojlund123\\appdata\\roaming\\python\\python39\\site-packages (from python3-nmap->-r requirements.txt (line 2)) (3.19.1)\n",
      "Requirement already satisfied: aiohttp in c:\\users\\hojlund123\\appdata\\roaming\\python\\python39\\site-packages (from mac-vendor-lookup->-r requirements.txt (line 4)) (3.8.4)\n",
      "Requirement already satisfied: aiofiles in c:\\users\\hojlund123\\appdata\\roaming\\python\\python39\\site-packages (from mac-vendor-lookup->-r requirements.txt (line 4)) (23.1.0)\n",
      "Requirement already satisfied: colorama in c:\\programdata\\anaconda3\\lib\\site-packages (from click>=8.0->flask->-r requirements.txt (line 1)) (0.4.6)\n",
      "Requirement already satisfied: zipp>=0.5 in c:\\programdata\\anaconda3\\lib\\site-packages (from importlib-metadata>=3.6.0->flask->-r requirements.txt (line 1)) (3.11.0)\n",
      "Requirement already satisfied: MarkupSafe>=2.0 in c:\\programdata\\anaconda3\\lib\\site-packages (from Jinja2>=3.0->flask->-r requirements.txt (line 1)) (2.1.1)\n",
      "Requirement already satisfied: aiosignal>=1.1.2 in c:\\users\\hojlund123\\appdata\\roaming\\python\\python39\\site-packages (from aiohttp->mac-vendor-lookup->-r requirements.txt (line 4)) (1.3.1)\n",
      "Requirement already satisfied: charset-normalizer<4.0,>=2.0 in c:\\programdata\\anaconda3\\lib\\site-packages (from aiohttp->mac-vendor-lookup->-r requirements.txt (line 4)) (2.0.4)\n",
      "Requirement already satisfied: multidict<7.0,>=4.5 in c:\\users\\hojlund123\\appdata\\roaming\\python\\python39\\site-packages (from aiohttp->mac-vendor-lookup->-r requirements.txt (line 4)) (6.0.4)\n",
      "Requirement already satisfied: yarl<2.0,>=1.0 in c:\\users\\hojlund123\\appdata\\roaming\\python\\python39\\site-packages (from aiohttp->mac-vendor-lookup->-r requirements.txt (line 4)) (1.8.2)\n",
      "Requirement already satisfied: frozenlist>=1.1.1 in c:\\users\\hojlund123\\appdata\\roaming\\python\\python39\\site-packages (from aiohttp->mac-vendor-lookup->-r requirements.txt (line 4)) (1.3.3)\n",
      "Requirement already satisfied: async-timeout<5.0,>=4.0.0a3 in c:\\users\\hojlund123\\appdata\\roaming\\python\\python39\\site-packages (from aiohttp->mac-vendor-lookup->-r requirements.txt (line 4)) (4.0.2)\n",
      "Requirement already satisfied: attrs>=17.3.0 in c:\\programdata\\anaconda3\\lib\\site-packages (from aiohttp->mac-vendor-lookup->-r requirements.txt (line 4)) (22.1.0)\n",
      "Requirement already satisfied: idna>=2.0 in c:\\programdata\\anaconda3\\lib\\site-packages (from yarl<2.0,>=1.0->aiohttp->mac-vendor-lookup->-r requirements.txt (line 4)) (3.4)\n"
     ]
    }
   ],
   "source": [
    "!pip install -r requirements.txt"
   ]
  },
  {
   "cell_type": "markdown",
   "id": "378f19a1",
   "metadata": {},
   "source": [
    "# run"
   ]
  },
  {
   "cell_type": "code",
   "execution_count": 5,
   "id": "c7a5127e",
   "metadata": {},
   "outputs": [],
   "source": [
    "import scapy"
   ]
  },
  {
   "cell_type": "code",
   "execution_count": 8,
   "id": "af3ce0f6",
   "metadata": {},
   "outputs": [
    {
     "name": "stderr",
     "output_type": "stream",
     "text": [
      "Traceback (most recent call last):\n",
      "  File \"C:\\Users\\hojlund123\\GitHub\\WiFi-Devices\\app.py\", line 2, in <module>\n",
      "    from scapy.all import ARP, srp\n",
      "ModuleNotFoundError: No module named 'scapy'\n"
     ]
    }
   ],
   "source": [
    "!python3 app.py"
   ]
  },
  {
   "cell_type": "code",
   "execution_count": null,
   "id": "e24d34ce",
   "metadata": {},
   "outputs": [],
   "source": []
  }
 ],
 "metadata": {
  "kernelspec": {
   "display_name": "Python 3 (ipykernel)",
   "language": "python",
   "name": "python3"
  },
  "language_info": {
   "codemirror_mode": {
    "name": "ipython",
    "version": 3
   },
   "file_extension": ".py",
   "mimetype": "text/x-python",
   "name": "python",
   "nbconvert_exporter": "python",
   "pygments_lexer": "ipython3",
   "version": "3.9.13"
  }
 },
 "nbformat": 4,
 "nbformat_minor": 5
}
